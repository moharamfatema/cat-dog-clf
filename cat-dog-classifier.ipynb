{
 "cells": [
  {
   "cell_type": "code",
   "execution_count": 1,
   "id": "08b21abf",
   "metadata": {
    "_cell_guid": "b1076dfc-b9ad-4769-8c92-a6c4dae69d19",
    "_uuid": "8f2839f25d086af736a60e9eeb907d3b93b6e0e5",
    "execution": {
     "iopub.execute_input": "2023-01-12T17:20:16.528978Z",
     "iopub.status.busy": "2023-01-12T17:20:16.528009Z",
     "iopub.status.idle": "2023-01-12T17:20:23.761956Z",
     "shell.execute_reply": "2023-01-12T17:20:23.760778Z"
    },
    "papermill": {
     "duration": 7.249726,
     "end_time": "2023-01-12T17:20:23.765831",
     "exception": false,
     "start_time": "2023-01-12T17:20:16.516105",
     "status": "completed"
    },
    "tags": []
   },
   "outputs": [
    {
     "data": {
      "text/plain": [
       "[PhysicalDevice(name='/physical_device:CPU:0', device_type='CPU')]"
      ]
     },
     "execution_count": 1,
     "metadata": {},
     "output_type": "execute_result"
    }
   ],
   "source": [
    "# This Python 3 environment comes with many helpful analytics libraries installed\n",
    "# It is defined by the kaggle/python Docker image: https://github.com/kaggle/docker-python\n",
    "# For example, here's several helpful packages to load\n",
    "\n",
    "import numpy as np # linear algebra\n",
    "# import pandas as pd # data processing, CSV file I/O (e.g. pd.read_csv)\n",
    "\n",
    "# Input data files are available in the read-only \"../input/\" directory\n",
    "# For example, running this (by clicking run or pressing Shift+Enter) will list all files under the input directory\n",
    "import matplotlib.pyplot as plt\n",
    "import os\n",
    "import seaborn as sns\n",
    "\n",
    "import cv2\n",
    "\n",
    "import tensorflow as tf\n",
    "from tensorflow import keras\n",
    "from tensorflow.keras import metrics\n",
    "import tensorflow.keras.layers as tfl\n",
    "\n",
    "from sklearn.metrics import accuracy_score, classification_report, roc_curve,roc_auc_score\n",
    "from sklearn.model_selection import train_test_split\n",
    "from sklearn.svm import SVC\n",
    "\n",
    "\n",
    "tf.config.list_physical_devices()\n",
    "# You can write up to 20GB to the current directory (/kaggle/working/) that gets preserved as output when you create a version using \"Save & Run All\" \n",
    "# You can also write temporary files to /kaggle/temp/, but they won't be saved outside of the current session"
   ]
  },
  {
   "cell_type": "markdown",
   "id": "334934bd",
   "metadata": {
    "papermill": {
     "duration": 0.005858,
     "end_time": "2023-01-12T17:20:23.778311",
     "exception": false,
     "start_time": "2023-01-12T17:20:23.772453",
     "status": "completed"
    },
    "tags": []
   },
   "source": [
    "## Get the data"
   ]
  },
  {
   "cell_type": "code",
   "execution_count": 2,
   "id": "251dcbb0",
   "metadata": {
    "execution": {
     "iopub.execute_input": "2023-01-12T17:20:23.792777Z",
     "iopub.status.busy": "2023-01-12T17:20:23.791265Z",
     "iopub.status.idle": "2023-01-12T17:20:23.797747Z",
     "shell.execute_reply": "2023-01-12T17:20:23.796944Z"
    },
    "papermill": {
     "duration": 0.015928,
     "end_time": "2023-01-12T17:20:23.800033",
     "exception": false,
     "start_time": "2023-01-12T17:20:23.784105",
     "status": "completed"
    },
    "tags": []
   },
   "outputs": [],
   "source": [
    "INPUT_PATH = '/kaggle/input/cat-and-dogs/dataset'\n",
    "TRAIN_PATH = INPUT_PATH + '/training_set'\n",
    "TEST_PATH = INPUT_PATH + '/test_set'\n",
    "\n",
    "IMAGE_SIZE = (50,50,1)\n",
    "BATCH_SIZE = 32\n",
    "\n",
    "np.random.seed(123)"
   ]
  },
  {
   "cell_type": "code",
   "execution_count": 3,
   "id": "10d1adf0",
   "metadata": {
    "execution": {
     "iopub.execute_input": "2023-01-12T17:20:23.814252Z",
     "iopub.status.busy": "2023-01-12T17:20:23.813105Z",
     "iopub.status.idle": "2023-01-12T17:20:23.821311Z",
     "shell.execute_reply": "2023-01-12T17:20:23.820488Z"
    },
    "papermill": {
     "duration": 0.017741,
     "end_time": "2023-01-12T17:20:23.823721",
     "exception": false,
     "start_time": "2023-01-12T17:20:23.805980",
     "status": "completed"
    },
    "tags": []
   },
   "outputs": [],
   "source": [
    "def extract(files):\n",
    "    x = np.zeros(((len(files),)+IMAGE_SIZE[:2]))\n",
    "    y = np.zeros((len(files)))\n",
    "    \n",
    "    for i, file in enumerate(files):\n",
    "        img = cv2.imread(file,cv2.IMREAD_GRAYSCALE)\n",
    "        img = cv2.resize(img,tuple(IMAGE_SIZE[:2]),interpolation=cv2.INTER_AREA)\n",
    "        img = img / 255.0\n",
    "        x[i] = img\n",
    "        \n",
    "        y[i] = 0 if file.split('/')[-2] == 'cats' else 1\n",
    "    \n",
    "    return x[:,:,:,np.newaxis], y"
   ]
  },
  {
   "cell_type": "code",
   "execution_count": 4,
   "id": "e9673905",
   "metadata": {
    "execution": {
     "iopub.execute_input": "2023-01-12T17:20:23.838671Z",
     "iopub.status.busy": "2023-01-12T17:20:23.837871Z",
     "iopub.status.idle": "2023-01-12T17:21:46.920042Z",
     "shell.execute_reply": "2023-01-12T17:21:46.918888Z"
    },
    "papermill": {
     "duration": 83.092612,
     "end_time": "2023-01-12T17:21:46.922751",
     "exception": false,
     "start_time": "2023-01-12T17:20:23.830139",
     "status": "completed"
    },
    "tags": []
   },
   "outputs": [],
   "source": [
    "def list_full_paths(directory):\n",
    "    return [os.path.join(directory, file) for file in os.listdir(directory)]\n",
    " \n",
    "train_files = list_full_paths(TRAIN_PATH+'/cats')+list_full_paths(TRAIN_PATH+'/dogs')\n",
    "test_files  = list_full_paths(TEST_PATH+'/cats')+list_full_paths(TEST_PATH+'/dogs')\n",
    "\n",
    "x_train, y_train = extract(train_files)\n",
    "x_train, x_val, y_train, y_val = train_test_split(x_train, y_train, test_size = 0.1, random_state = 123, stratify = y_train)\n",
    "x_test, y_test   = extract(test_files)\n",
    "\n",
    "del train_files, test_files"
   ]
  },
  {
   "cell_type": "code",
   "execution_count": 5,
   "id": "a1c90cb9",
   "metadata": {
    "execution": {
     "iopub.execute_input": "2023-01-12T17:21:46.937594Z",
     "iopub.status.busy": "2023-01-12T17:21:46.936515Z",
     "iopub.status.idle": "2023-01-12T17:21:46.943825Z",
     "shell.execute_reply": "2023-01-12T17:21:46.942608Z"
    },
    "papermill": {
     "duration": 0.016979,
     "end_time": "2023-01-12T17:21:46.946304",
     "exception": false,
     "start_time": "2023-01-12T17:21:46.929325",
     "status": "completed"
    },
    "tags": []
   },
   "outputs": [
    {
     "name": "stdout",
     "output_type": "stream",
     "text": [
      "(7200, 50, 50, 1) (7200,)\n",
      "(800, 50, 50, 1) (800,)\n",
      "(2000, 50, 50, 1) (2000,)\n"
     ]
    }
   ],
   "source": [
    "print(x_train.shape,y_train.shape)\n",
    "print(x_val.shape,y_val.shape)\n",
    "print(x_test.shape,y_test.shape)"
   ]
  },
  {
   "cell_type": "code",
   "execution_count": 6,
   "id": "56dc0578",
   "metadata": {
    "execution": {
     "iopub.execute_input": "2023-01-12T17:21:46.960072Z",
     "iopub.status.busy": "2023-01-12T17:21:46.959630Z",
     "iopub.status.idle": "2023-01-12T17:21:46.967810Z",
     "shell.execute_reply": "2023-01-12T17:21:46.966609Z"
    },
    "papermill": {
     "duration": 0.017924,
     "end_time": "2023-01-12T17:21:46.970247",
     "exception": false,
     "start_time": "2023-01-12T17:21:46.952323",
     "status": "completed"
    },
    "tags": []
   },
   "outputs": [
    {
     "name": "stdout",
     "output_type": "stream",
     "text": [
      "(array([0., 1.]), array([3600, 3600]))\n",
      "(array([0., 1.]), array([400, 400]))\n",
      "(array([0., 1.]), array([1000, 1000]))\n"
     ]
    }
   ],
   "source": [
    "print(np.unique(y_train,return_counts=True))\n",
    "print(np.unique(y_val,return_counts=True))\n",
    "print(np.unique(y_test,return_counts=True))"
   ]
  },
  {
   "cell_type": "markdown",
   "id": "84217419",
   "metadata": {
    "papermill": {
     "duration": 0.005852,
     "end_time": "2023-01-12T17:21:46.982177",
     "exception": false,
     "start_time": "2023-01-12T17:21:46.976325",
     "status": "completed"
    },
    "tags": []
   },
   "source": [
    "# prepare the model"
   ]
  },
  {
   "cell_type": "code",
   "execution_count": 7,
   "id": "d06bee87",
   "metadata": {
    "execution": {
     "iopub.execute_input": "2023-01-12T17:21:46.996769Z",
     "iopub.status.busy": "2023-01-12T17:21:46.995840Z",
     "iopub.status.idle": "2023-01-12T17:21:47.000621Z",
     "shell.execute_reply": "2023-01-12T17:21:46.999660Z"
    },
    "papermill": {
     "duration": 0.014465,
     "end_time": "2023-01-12T17:21:47.002861",
     "exception": false,
     "start_time": "2023-01-12T17:21:46.988396",
     "status": "completed"
    },
    "tags": []
   },
   "outputs": [],
   "source": [
    "LEARNING_RATE = 0.001\n",
    "EPOCHS = 100\n"
   ]
  },
  {
   "cell_type": "code",
   "execution_count": 8,
   "id": "7be6fa48",
   "metadata": {
    "execution": {
     "iopub.execute_input": "2023-01-12T17:21:47.017438Z",
     "iopub.status.busy": "2023-01-12T17:21:47.016161Z",
     "iopub.status.idle": "2023-01-12T17:21:47.023180Z",
     "shell.execute_reply": "2023-01-12T17:21:47.022153Z"
    },
    "papermill": {
     "duration": 0.016795,
     "end_time": "2023-01-12T17:21:47.025643",
     "exception": false,
     "start_time": "2023-01-12T17:21:47.008848",
     "status": "completed"
    },
    "tags": []
   },
   "outputs": [],
   "source": [
    "values = np.linspace(0.00001,LEARNING_RATE,20)[::-1]\n",
    "boundaries = np.linspace(5, 100,19)[:values.shape[0]-1].astype(np.int32)\n",
    "\n",
    "scheduler = keras.optimizers.schedules.PiecewiseConstantDecay(\n",
    "    list(boundaries), list(values))\n",
    "\n",
    "lr_scheduler = tf.keras.callbacks.LearningRateScheduler(scheduler,verbose=1)"
   ]
  },
  {
   "cell_type": "code",
   "execution_count": 9,
   "id": "95d296ac",
   "metadata": {
    "execution": {
     "iopub.execute_input": "2023-01-12T17:21:47.039405Z",
     "iopub.status.busy": "2023-01-12T17:21:47.038973Z",
     "iopub.status.idle": "2023-01-12T17:21:47.227484Z",
     "shell.execute_reply": "2023-01-12T17:21:47.226241Z"
    },
    "papermill": {
     "duration": 0.199592,
     "end_time": "2023-01-12T17:21:47.231202",
     "exception": false,
     "start_time": "2023-01-12T17:21:47.031610",
     "status": "completed"
    },
    "tags": []
   },
   "outputs": [
    {
     "name": "stdout",
     "output_type": "stream",
     "text": [
      "Model: \"cat_dog_conv_net\"\n",
      "_________________________________________________________________\n",
      "Layer (type)                 Output Shape              Param #   \n",
      "=================================================================\n",
      "conv2d (Conv2D)              (None, 50, 50, 16)        160       \n",
      "_________________________________________________________________\n",
      "batch_normalization (BatchNo (None, 50, 50, 16)        64        \n",
      "_________________________________________________________________\n",
      "dropout (Dropout)            (None, 50, 50, 16)        0         \n",
      "_________________________________________________________________\n",
      "conv2d_1 (Conv2D)            (None, 50, 50, 32)        4640      \n",
      "_________________________________________________________________\n",
      "batch_normalization_1 (Batch (None, 50, 50, 32)        128       \n",
      "_________________________________________________________________\n",
      "max_pooling2d (MaxPooling2D) (None, 25, 25, 32)        0         \n",
      "_________________________________________________________________\n",
      "flatten (Flatten)            (None, 20000)             0         \n",
      "_________________________________________________________________\n",
      "feature_extractor (Dense)    (None, 64)                1280064   \n",
      "_________________________________________________________________\n",
      "dropout_1 (Dropout)          (None, 64)                0         \n",
      "_________________________________________________________________\n",
      "dense (Dense)                (None, 1)                 65        \n",
      "=================================================================\n",
      "Total params: 1,285,121\n",
      "Trainable params: 1,285,025\n",
      "Non-trainable params: 96\n",
      "_________________________________________________________________\n"
     ]
    },
    {
     "name": "stderr",
     "output_type": "stream",
     "text": [
      "2023-01-12 17:21:47.088163: I tensorflow/core/common_runtime/process_util.cc:146] Creating new thread pool with default inter op setting: 2. Tune using inter_op_parallelism_threads for best performance.\n"
     ]
    }
   ],
   "source": [
    "model = keras.models.Sequential([\n",
    "    tfl.Conv2D(\n",
    "        16,\n",
    "        3,\n",
    "        activation = 'relu',\n",
    "        input_shape = IMAGE_SIZE,\n",
    "        padding='same'\n",
    "    ),\n",
    "    tfl.BatchNormalization(),\n",
    "\n",
    "    tfl.Dropout(0.5),\n",
    "    tfl.Conv2D(\n",
    "        32,\n",
    "        3,\n",
    "        activation = 'relu',\n",
    "        padding='same'\n",
    "    ),\n",
    "    tfl.BatchNormalization(),\n",
    "\n",
    "    tfl.MaxPool2D(2,2),\n",
    "        \n",
    "    tfl.Flatten(),\n",
    "    \n",
    "    tfl.Dense(64, activation='relu',name='feature_extractor'),\n",
    "    tfl.Dropout(0.4),\n",
    "\n",
    "    tfl.Dense(1, activation='sigmoid')\n",
    "], name = 'cat_dog_conv_net')\n",
    "\n",
    "model.compile(optimizer='adam',loss='binary_crossentropy',metrics=['accuracy'])\n",
    "\n",
    "model.summary()\n",
    "\n",
    "checkpoint_path = '/kaggle/working/checkpoints/cnn/'\n"
   ]
  },
  {
   "cell_type": "code",
   "execution_count": 10,
   "id": "328726f1",
   "metadata": {
    "execution": {
     "iopub.execute_input": "2023-01-12T17:21:47.246875Z",
     "iopub.status.busy": "2023-01-12T17:21:47.246446Z",
     "iopub.status.idle": "2023-01-12T17:21:47.251486Z",
     "shell.execute_reply": "2023-01-12T17:21:47.250357Z"
    },
    "papermill": {
     "duration": 0.015639,
     "end_time": "2023-01-12T17:21:47.254309",
     "exception": false,
     "start_time": "2023-01-12T17:21:47.238670",
     "status": "completed"
    },
    "tags": []
   },
   "outputs": [],
   "source": [
    "# del model"
   ]
  },
  {
   "cell_type": "code",
   "execution_count": 11,
   "id": "f7c1e302",
   "metadata": {
    "execution": {
     "iopub.execute_input": "2023-01-12T17:21:47.268785Z",
     "iopub.status.busy": "2023-01-12T17:21:47.268338Z",
     "iopub.status.idle": "2023-01-12T17:29:48.411614Z",
     "shell.execute_reply": "2023-01-12T17:29:48.409824Z"
    },
    "papermill": {
     "duration": 481.154905,
     "end_time": "2023-01-12T17:29:48.415517",
     "exception": false,
     "start_time": "2023-01-12T17:21:47.260612",
     "status": "completed"
    },
    "scrolled": true,
    "tags": []
   },
   "outputs": [
    {
     "name": "stderr",
     "output_type": "stream",
     "text": [
      "2023-01-12 17:21:47.461835: I tensorflow/compiler/mlir/mlir_graph_optimization_pass.cc:185] None of the MLIR Optimization Passes are enabled (registered 2)\n"
     ]
    },
    {
     "name": "stdout",
     "output_type": "stream",
     "text": [
      "Epoch 1/100\n",
      "\n",
      "Epoch 00001: LearningRateScheduler setting learning rate to tf.Tensor(0.001, shape=(), dtype=float64).\n",
      "225/225 [==============================] - 14s 58ms/step - loss: 0.8281 - accuracy: 0.4953 - val_loss: 22.7130 - val_accuracy: 0.5000\n",
      "Epoch 2/100\n",
      "\n",
      "Epoch 00002: LearningRateScheduler setting learning rate to tf.Tensor(0.001, shape=(), dtype=float64).\n",
      "225/225 [==============================] - 12s 53ms/step - loss: 0.6919 - accuracy: 0.5096 - val_loss: 12.3153 - val_accuracy: 0.5150\n",
      "Epoch 3/100\n",
      "\n",
      "Epoch 00003: LearningRateScheduler setting learning rate to tf.Tensor(0.001, shape=(), dtype=float64).\n",
      "225/225 [==============================] - 13s 56ms/step - loss: 0.6929 - accuracy: 0.4904 - val_loss: 3.5623 - val_accuracy: 0.5575\n",
      "Epoch 4/100\n",
      "\n",
      "Epoch 00004: LearningRateScheduler setting learning rate to tf.Tensor(0.001, shape=(), dtype=float64).\n",
      "225/225 [==============================] - 12s 53ms/step - loss: 0.6943 - accuracy: 0.5039 - val_loss: 1.0240 - val_accuracy: 0.5587\n",
      "Epoch 5/100\n",
      "\n",
      "Epoch 00005: LearningRateScheduler setting learning rate to tf.Tensor(0.001, shape=(), dtype=float64).\n",
      "225/225 [==============================] - 12s 53ms/step - loss: 0.6932 - accuracy: 0.5000 - val_loss: 0.9821 - val_accuracy: 0.5537\n",
      "Epoch 6/100\n",
      "\n",
      "Epoch 00006: LearningRateScheduler setting learning rate to tf.Tensor(0.001, shape=(), dtype=float64).\n",
      "225/225 [==============================] - 13s 58ms/step - loss: 0.6932 - accuracy: 0.4953 - val_loss: 0.9678 - val_accuracy: 0.5512\n",
      "Epoch 7/100\n",
      "\n",
      "Epoch 00007: LearningRateScheduler setting learning rate to tf.Tensor(0.0009478947368421053, shape=(), dtype=float64).\n",
      "225/225 [==============================] - 12s 54ms/step - loss: 0.6932 - accuracy: 0.4903 - val_loss: 0.9599 - val_accuracy: 0.5475\n",
      "Epoch 8/100\n",
      "\n",
      "Epoch 00008: LearningRateScheduler setting learning rate to tf.Tensor(0.0009478947368421053, shape=(), dtype=float64).\n",
      "225/225 [==============================] - 12s 54ms/step - loss: 0.6932 - accuracy: 0.4958 - val_loss: 0.9588 - val_accuracy: 0.5475\n",
      "Epoch 9/100\n",
      "\n",
      "Epoch 00009: LearningRateScheduler setting learning rate to tf.Tensor(0.0009478947368421053, shape=(), dtype=float64).\n",
      "225/225 [==============================] - 13s 57ms/step - loss: 0.6932 - accuracy: 0.4958 - val_loss: 0.9539 - val_accuracy: 0.5475\n",
      "Epoch 10/100\n",
      "\n",
      "Epoch 00010: LearningRateScheduler setting learning rate to tf.Tensor(0.0009478947368421053, shape=(), dtype=float64).\n",
      "225/225 [==============================] - 12s 54ms/step - loss: 0.6932 - accuracy: 0.4942 - val_loss: 0.9540 - val_accuracy: 0.5487\n",
      "Epoch 11/100\n",
      "\n",
      "Epoch 00011: LearningRateScheduler setting learning rate to tf.Tensor(0.0009478947368421053, shape=(), dtype=float64).\n",
      "225/225 [==============================] - 13s 57ms/step - loss: 0.6932 - accuracy: 0.4900 - val_loss: 0.9532 - val_accuracy: 0.5487\n",
      "Epoch 12/100\n",
      "\n",
      "Epoch 00012: LearningRateScheduler setting learning rate to tf.Tensor(0.0008957894736842106, shape=(), dtype=float64).\n",
      "225/225 [==============================] - 12s 53ms/step - loss: 0.6932 - accuracy: 0.4836 - val_loss: 0.9550 - val_accuracy: 0.4750\n",
      "Epoch 13/100\n",
      "\n",
      "Epoch 00013: LearningRateScheduler setting learning rate to tf.Tensor(0.0008957894736842106, shape=(), dtype=float64).\n",
      "225/225 [==============================] - 12s 54ms/step - loss: 0.6932 - accuracy: 0.4861 - val_loss: 0.9589 - val_accuracy: 0.5487\n",
      "Epoch 14/100\n",
      "\n",
      "Epoch 00014: LearningRateScheduler setting learning rate to tf.Tensor(0.0008957894736842106, shape=(), dtype=float64).\n",
      "225/225 [==============================] - 13s 58ms/step - loss: 0.6932 - accuracy: 0.4919 - val_loss: 0.9519 - val_accuracy: 0.4750\n",
      "Epoch 15/100\n",
      "\n",
      "Epoch 00015: LearningRateScheduler setting learning rate to tf.Tensor(0.0008957894736842106, shape=(), dtype=float64).\n",
      "225/225 [==============================] - 12s 54ms/step - loss: 0.6932 - accuracy: 0.5000 - val_loss: 0.9585 - val_accuracy: 0.5475\n",
      "Epoch 16/100\n",
      "\n",
      "Epoch 00016: LearningRateScheduler setting learning rate to tf.Tensor(0.0008957894736842106, shape=(), dtype=float64).\n",
      "225/225 [==============================] - 13s 57ms/step - loss: 0.6932 - accuracy: 0.4981 - val_loss: 0.9538 - val_accuracy: 0.5475\n",
      "Epoch 17/100\n",
      "\n",
      "Epoch 00017: LearningRateScheduler setting learning rate to tf.Tensor(0.0008436842105263158, shape=(), dtype=float64).\n",
      "225/225 [==============================] - 12s 55ms/step - loss: 0.6932 - accuracy: 0.5000 - val_loss: 0.9534 - val_accuracy: 0.5450\n",
      "Epoch 18/100\n",
      "\n",
      "Epoch 00018: LearningRateScheduler setting learning rate to tf.Tensor(0.0008436842105263158, shape=(), dtype=float64).\n",
      "225/225 [==============================] - 12s 53ms/step - loss: 0.6932 - accuracy: 0.4947 - val_loss: 0.9536 - val_accuracy: 0.5450\n",
      "Epoch 19/100\n",
      "\n",
      "Epoch 00019: LearningRateScheduler setting learning rate to tf.Tensor(0.0008436842105263158, shape=(), dtype=float64).\n",
      "225/225 [==============================] - 13s 57ms/step - loss: 0.6932 - accuracy: 0.4956 - val_loss: 0.9577 - val_accuracy: 0.4737\n",
      "Epoch 20/100\n",
      "\n",
      "Epoch 00020: LearningRateScheduler setting learning rate to tf.Tensor(0.0008436842105263158, shape=(), dtype=float64).\n",
      "225/225 [==============================] - 12s 55ms/step - loss: 0.6932 - accuracy: 0.5000 - val_loss: 0.9550 - val_accuracy: 0.4737\n",
      "Epoch 21/100\n",
      "\n",
      "Epoch 00021: LearningRateScheduler setting learning rate to tf.Tensor(0.0008436842105263158, shape=(), dtype=float64).\n",
      "225/225 [==============================] - 12s 54ms/step - loss: 0.6932 - accuracy: 0.4892 - val_loss: 0.9499 - val_accuracy: 0.4750\n",
      "Epoch 22/100\n",
      "\n",
      "Epoch 00022: LearningRateScheduler setting learning rate to tf.Tensor(0.000791578947368421, shape=(), dtype=float64).\n",
      "225/225 [==============================] - 13s 59ms/step - loss: 0.6932 - accuracy: 0.4847 - val_loss: 0.9520 - val_accuracy: 0.4762\n",
      "Epoch 23/100\n",
      "\n",
      "Epoch 00023: LearningRateScheduler setting learning rate to tf.Tensor(0.000791578947368421, shape=(), dtype=float64).\n",
      "225/225 [==============================] - 12s 54ms/step - loss: 0.6932 - accuracy: 0.4964 - val_loss: 0.9546 - val_accuracy: 0.4775\n",
      "Epoch 24/100\n",
      "\n",
      "Epoch 00024: LearningRateScheduler setting learning rate to tf.Tensor(0.000791578947368421, shape=(), dtype=float64).\n",
      "225/225 [==============================] - 13s 59ms/step - loss: 0.6932 - accuracy: 0.4919 - val_loss: 0.9541 - val_accuracy: 0.4750\n",
      "Epoch 25/100\n",
      "\n",
      "Epoch 00025: LearningRateScheduler setting learning rate to tf.Tensor(0.000791578947368421, shape=(), dtype=float64).\n",
      "225/225 [==============================] - 12s 55ms/step - loss: 0.6932 - accuracy: 0.4925 - val_loss: 0.9563 - val_accuracy: 0.4775\n",
      "Epoch 26/100\n",
      "\n",
      "Epoch 00026: LearningRateScheduler setting learning rate to tf.Tensor(0.000791578947368421, shape=(), dtype=float64).\n",
      "225/225 [==============================] - 16s 70ms/step - loss: 0.6932 - accuracy: 0.4919 - val_loss: 0.9523 - val_accuracy: 0.4775\n",
      "Epoch 27/100\n",
      "\n",
      "Epoch 00027: LearningRateScheduler setting learning rate to tf.Tensor(0.000791578947368421, shape=(), dtype=float64).\n",
      "225/225 [==============================] - 14s 62ms/step - loss: 0.6932 - accuracy: 0.4989 - val_loss: 0.9489 - val_accuracy: 0.5475\n",
      "Epoch 28/100\n",
      "\n",
      "Epoch 00028: LearningRateScheduler setting learning rate to tf.Tensor(0.0007394736842105264, shape=(), dtype=float64).\n",
      "225/225 [==============================] - 14s 60ms/step - loss: 0.6932 - accuracy: 0.4967 - val_loss: 0.9511 - val_accuracy: 0.5487\n",
      "Epoch 29/100\n",
      "\n",
      "Epoch 00029: LearningRateScheduler setting learning rate to tf.Tensor(0.0007394736842105264, shape=(), dtype=float64).\n",
      "225/225 [==============================] - 14s 63ms/step - loss: 0.6932 - accuracy: 0.4950 - val_loss: 0.9537 - val_accuracy: 0.5475\n",
      "Epoch 30/100\n",
      "\n",
      "Epoch 00030: LearningRateScheduler setting learning rate to tf.Tensor(0.0007394736842105264, shape=(), dtype=float64).\n",
      "225/225 [==============================] - 13s 59ms/step - loss: 0.6932 - accuracy: 0.4944 - val_loss: 0.9521 - val_accuracy: 0.4737\n",
      "Epoch 31/100\n",
      "\n",
      "Epoch 00031: LearningRateScheduler setting learning rate to tf.Tensor(0.0007394736842105264, shape=(), dtype=float64).\n",
      "225/225 [==============================] - 14s 64ms/step - loss: 0.6932 - accuracy: 0.4981 - val_loss: 0.9580 - val_accuracy: 0.4737\n",
      "Epoch 32/100\n",
      "\n",
      "Epoch 00032: LearningRateScheduler setting learning rate to tf.Tensor(0.0007394736842105264, shape=(), dtype=float64).\n",
      "225/225 [==============================] - 14s 60ms/step - loss: 0.6932 - accuracy: 0.4903 - val_loss: 0.9562 - val_accuracy: 0.4775\n",
      "Epoch 33/100\n",
      "\n",
      "Epoch 00033: LearningRateScheduler setting learning rate to tf.Tensor(0.0006873684210526316, shape=(), dtype=float64).\n",
      "225/225 [==============================] - 13s 60ms/step - loss: 0.6932 - accuracy: 0.4889 - val_loss: 0.9528 - val_accuracy: 0.4750\n",
      "Epoch 34/100\n",
      "\n",
      "Epoch 00034: LearningRateScheduler setting learning rate to tf.Tensor(0.0006873684210526316, shape=(), dtype=float64).\n",
      "225/225 [==============================] - 14s 63ms/step - loss: 0.6932 - accuracy: 0.4967 - val_loss: 0.9552 - val_accuracy: 0.4737\n",
      "Epoch 35/100\n",
      "\n",
      "Epoch 00035: LearningRateScheduler setting learning rate to tf.Tensor(0.0006873684210526316, shape=(), dtype=float64).\n",
      "225/225 [==============================] - 13s 60ms/step - loss: 0.6932 - accuracy: 0.4947 - val_loss: 0.9587 - val_accuracy: 0.4725\n",
      "Epoch 36/100\n",
      "\n",
      "Epoch 00036: LearningRateScheduler setting learning rate to tf.Tensor(0.0006873684210526316, shape=(), dtype=float64).\n",
      "225/225 [==============================] - 14s 64ms/step - loss: 0.6932 - accuracy: 0.4994 - val_loss: 0.9531 - val_accuracy: 0.4775\n",
      "Epoch 37/100\n",
      "\n",
      "Epoch 00037: LearningRateScheduler setting learning rate to tf.Tensor(0.0006873684210526316, shape=(), dtype=float64).\n",
      "225/225 [==============================] - 13s 59ms/step - loss: 0.6932 - accuracy: 0.4922 - val_loss: 0.9549 - val_accuracy: 0.4750\n"
     ]
    }
   ],
   "source": [
    "\n",
    "early_stopping = keras.callbacks.EarlyStopping(monitor='val_loss', patience = 10, mode='min')\n",
    "\n",
    "def configure_checkpoints(path):\n",
    "    return keras.callbacks.ModelCheckpoint(\n",
    "        filepath=path,\n",
    "        save_weights_only=True,\n",
    "        monitor='val_loss',\n",
    "        mode='min',\n",
    "        save_best_only=True)\n",
    "\n",
    "checkpoint = configure_checkpoints(checkpoint_path)\n",
    "\n",
    "history = model.fit(\n",
    "    x_train,\n",
    "    y_train, \n",
    "    batch_size=BATCH_SIZE,\n",
    "    validation_data = (x_val,y_val), \n",
    "    epochs = EPOCHS, \n",
    "    callbacks = [early_stopping,lr_scheduler,checkpoint],\n",
    ")"
   ]
  },
  {
   "cell_type": "code",
   "execution_count": 12,
   "id": "c947840b",
   "metadata": {
    "execution": {
     "iopub.execute_input": "2023-01-12T17:29:49.535398Z",
     "iopub.status.busy": "2023-01-12T17:29:49.534945Z",
     "iopub.status.idle": "2023-01-12T17:30:10.740768Z",
     "shell.execute_reply": "2023-01-12T17:30:10.739555Z"
    },
    "papermill": {
     "duration": 21.7302,
     "end_time": "2023-01-12T17:30:10.743819",
     "exception": false,
     "start_time": "2023-01-12T17:29:49.013619",
     "status": "completed"
    },
    "tags": []
   },
   "outputs": [
    {
     "name": "stdout",
     "output_type": "stream",
     "text": [
      "dict_keys(['loss', 'accuracy', 'val_loss', 'val_accuracy', 'lr'])\n"
     ]
    },
    {
     "data": {
      "text/plain": [
       "Text(0.5, 0, 'Epochs ')"
      ]
     },
     "execution_count": 12,
     "metadata": {},
     "output_type": "execute_result"
    },
    {
     "data": {
      "image/png": "[encoded data removed]",
      "text/plain": [
       "<Figure size 432x288 with 1 Axes>"
      ]
     },
     "metadata": {
      "needs_background": "light"
     },
     "output_type": "display_data"
    },
    {
     "data": {
      "image/png": "[encoded data removed]",
      "text/plain": [
       "<Figure size 432x288 with 1 Axes>"
      ]
     },
     "metadata": {
      "needs_background": "light"
     },
     "output_type": "display_data"
    }
   ],
   "source": [
    "print(history.history.keys())\n",
    "num=len(history.history['loss'])\n",
    "\n",
    "plt.plot(range(num),history.history['loss'],label = 'training loss')\n",
    "plt.plot(range(num),history.history['val_loss'],label = 'validation loss')\n",
    "\n",
    "plt.legend()\n",
    "\n",
    "plt.xlabel(\"Epochs \")\n",
    "\n",
    "plt.figure()\n",
    "\n",
    "plt.plot(range(num),history.history['accuracy'],label = 'training accuracy')\n",
    "plt.plot(range(num),history.history['val_accuracy'],label = 'validation accuracy')\n",
    "\n",
    "plt.legend()\n",
    "plt.xlabel(\"Epochs \")"
   ]
  },
  {
   "cell_type": "code",
   "execution_count": 13,
   "id": "889e40cb",
   "metadata": {
    "execution": {
     "iopub.execute_input": "2023-01-12T17:30:11.928188Z",
     "iopub.status.busy": "2023-01-12T17:30:11.927428Z",
     "iopub.status.idle": "2023-01-12T17:30:11.986066Z",
     "shell.execute_reply": "2023-01-12T17:30:11.984799Z"
    },
    "papermill": {
     "duration": 0.69248,
     "end_time": "2023-01-12T17:30:11.988459",
     "exception": false,
     "start_time": "2023-01-12T17:30:11.295979",
     "status": "completed"
    },
    "tags": []
   },
   "outputs": [
    {
     "data": {
      "text/plain": [
       "<tensorflow.python.training.tracking.util.CheckpointLoadStatus at 0x7f357987bad0>"
      ]
     },
     "execution_count": 13,
     "metadata": {},
     "output_type": "execute_result"
    }
   ],
   "source": [
    "model.load_weights(checkpoint_path)"
   ]
  },
  {
   "cell_type": "markdown",
   "id": "dc5dbad4",
   "metadata": {
    "papermill": {
     "duration": 0.525196,
     "end_time": "2023-01-12T17:30:13.068982",
     "exception": false,
     "start_time": "2023-01-12T17:30:12.543786",
     "status": "completed"
    },
    "tags": []
   },
   "source": [
    "# Evaluate the model"
   ]
  },
  {
   "cell_type": "code",
   "execution_count": 14,
   "id": "b1bab324",
   "metadata": {
    "execution": {
     "iopub.execute_input": "2023-01-12T17:30:14.194109Z",
     "iopub.status.busy": "2023-01-12T17:30:14.193320Z",
     "iopub.status.idle": "2023-01-12T17:30:17.064175Z",
     "shell.execute_reply": "2023-01-12T17:30:17.061760Z"
    },
    "papermill": {
     "duration": 3.413462,
     "end_time": "2023-01-12T17:30:17.067320",
     "exception": false,
     "start_time": "2023-01-12T17:30:13.653858",
     "status": "completed"
    },
    "tags": []
   },
   "outputs": [
    {
     "name": "stdout",
     "output_type": "stream",
     "text": [
      "63/63 [==============================] - 1s 15ms/step - loss: 0.9555 - accuracy: 0.5275\n",
      "[0.9555261731147766, 0.5274999737739563]\n",
      "              precision    recall  f1-score   support\n",
      "\n",
      "         cat       0.58      0.20      0.30      1000\n",
      "         dog       0.52      0.85      0.64      1000\n",
      "\n",
      "    accuracy                           0.53      2000\n",
      "   macro avg       0.55      0.53      0.47      2000\n",
      "weighted avg       0.55      0.53      0.47      2000\n",
      "\n"
     ]
    },
    {
     "data": {
      "image/png": "[encoded data removed]",
      "text/plain": [
       "<Figure size 432x288 with 2 Axes>"
      ]
     },
     "metadata": {
      "needs_background": "light"
     },
     "output_type": "display_data"
    },
    {
     "name": "stdout",
     "output_type": "stream",
     "text": [
      "AUC = 0.5274999737739563\n"
     ]
    },
    {
     "data": {
      "image/png": "[encoded data removed]",
      "text/plain": [
       "<Figure size 432x288 with 1 Axes>"
      ]
     },
     "metadata": {
      "needs_background": "light"
     },
     "output_type": "display_data"
    }
   ],
   "source": [
    "def eval_model(model,x,y,thresh=0.5):\n",
    "    \n",
    "    print(model.evaluate(x,y))\n",
    "    y_pred = model.predict(x)\n",
    "    y_pred[y_pred >= thresh] = 1\n",
    "    y_pred[y_pred < thresh ] = 0\n",
    "    \n",
    "    print(classification_report(y, y_pred, target_names=['cat','dog']))\n",
    "    \n",
    "    cm = tf.math.confusion_matrix(y,y_pred).numpy().astype(np.int64)\n",
    "    cm = np.around(cm.astype('float') / cm.sum(axis=1)[:, np.newaxis], decimals=3)\n",
    "    sns.heatmap(cm,annot=True)\n",
    "    plt.show()\n",
    "    \n",
    "    m = tf.keras.metrics.AUC(num_thresholds=80)\n",
    "    m.update_state(y, y_pred)\n",
    "\n",
    "    print(f'AUC = {m.result().numpy()}')\n",
    "\n",
    "    fpr , tpr , thresholds = roc_curve ( y , y_pred)\n",
    "    plt.figure()\n",
    "    plt.plot(fpr,tpr) \n",
    "    plt.axis([0,1,0,1]) \n",
    "    plt.xlabel('False Positive Rate') \n",
    "    plt.ylabel('True Positive Rate') \n",
    "    plt.show()    \n",
    "      \n",
    "eval_model(model,x_test,y_test)"
   ]
  },
  {
   "cell_type": "code",
   "execution_count": 15,
   "id": "90c92f60",
   "metadata": {
    "execution": {
     "iopub.execute_input": "2023-01-12T17:30:18.214795Z",
     "iopub.status.busy": "2023-01-12T17:30:18.213892Z",
     "iopub.status.idle": "2023-01-12T17:30:21.203024Z",
     "shell.execute_reply": "2023-01-12T17:30:21.201581Z"
    },
    "papermill": {
     "duration": 3.587095,
     "end_time": "2023-01-12T17:30:21.206096",
     "exception": false,
     "start_time": "2023-01-12T17:30:17.619001",
     "status": "completed"
    },
    "tags": []
   },
   "outputs": [
    {
     "data": {
      "text/plain": [
       "(7200, 64)"
      ]
     },
     "execution_count": 15,
     "metadata": {},
     "output_type": "execute_result"
    }
   ],
   "source": [
    "# feature extraction\n",
    "feature_extractor = keras.Model(\n",
    "    inputs=model.inputs,\n",
    "    outputs=model.get_layer(name='feature_extractor').output\n",
    ")\n",
    "\n",
    "features = feature_extractor.predict(x_train)\n",
    "features.shape"
   ]
  },
  {
   "cell_type": "code",
   "execution_count": 16,
   "id": "37b20d68",
   "metadata": {
    "execution": {
     "iopub.execute_input": "2023-01-12T17:30:22.297834Z",
     "iopub.status.busy": "2023-01-12T17:30:22.297351Z",
     "iopub.status.idle": "2023-01-12T17:30:23.298549Z",
     "shell.execute_reply": "2023-01-12T17:30:23.297435Z"
    },
    "papermill": {
     "duration": 1.550485,
     "end_time": "2023-01-12T17:30:23.301349",
     "exception": false,
     "start_time": "2023-01-12T17:30:21.750864",
     "status": "completed"
    },
    "tags": []
   },
   "outputs": [
    {
     "data": {
      "text/plain": [
       "(2000, 64)"
      ]
     },
     "execution_count": 16,
     "metadata": {},
     "output_type": "execute_result"
    }
   ],
   "source": [
    "features_test = feature_extractor.predict(x_test)\n",
    "features_test.shape"
   ]
  },
  {
   "cell_type": "code",
   "execution_count": 17,
   "id": "1b5df2dc",
   "metadata": {
    "execution": {
     "iopub.execute_input": "2023-01-12T17:30:24.453162Z",
     "iopub.status.busy": "2023-01-12T17:30:24.452341Z",
     "iopub.status.idle": "2023-01-12T17:30:24.457733Z",
     "shell.execute_reply": "2023-01-12T17:30:24.456717Z"
    },
    "papermill": {
     "duration": 0.540866,
     "end_time": "2023-01-12T17:30:24.460676",
     "exception": false,
     "start_time": "2023-01-12T17:30:23.919810",
     "status": "completed"
    },
    "tags": []
   },
   "outputs": [],
   "source": [
    "clf = SVC()"
   ]
  },
  {
   "cell_type": "code",
   "execution_count": 18,
   "id": "5574f2fc",
   "metadata": {
    "execution": {
     "iopub.execute_input": "2023-01-12T17:30:25.605081Z",
     "iopub.status.busy": "2023-01-12T17:30:25.604270Z",
     "iopub.status.idle": "2023-01-12T17:30:30.402918Z",
     "shell.execute_reply": "2023-01-12T17:30:30.401606Z"
    },
    "papermill": {
     "duration": 5.412822,
     "end_time": "2023-01-12T17:30:30.405631",
     "exception": false,
     "start_time": "2023-01-12T17:30:24.992809",
     "status": "completed"
    },
    "tags": []
   },
   "outputs": [
    {
     "data": {
      "text/plain": [
       "SVC()"
      ]
     },
     "execution_count": 18,
     "metadata": {},
     "output_type": "execute_result"
    }
   ],
   "source": [
    "clf.fit(X=features,y=y_train)"
   ]
  },
  {
   "cell_type": "code",
   "execution_count": 19,
   "id": "5dfe9c4e",
   "metadata": {
    "execution": {
     "iopub.execute_input": "2023-01-12T17:30:31.575796Z",
     "iopub.status.busy": "2023-01-12T17:30:31.575035Z",
     "iopub.status.idle": "2023-01-12T17:30:32.964380Z",
     "shell.execute_reply": "2023-01-12T17:30:32.962670Z"
    },
    "papermill": {
     "duration": 2.003301,
     "end_time": "2023-01-12T17:30:32.968646",
     "exception": false,
     "start_time": "2023-01-12T17:30:30.965345",
     "status": "completed"
    },
    "tags": []
   },
   "outputs": [
    {
     "data": {
      "text/plain": [
       "0.557"
      ]
     },
     "execution_count": 19,
     "metadata": {},
     "output_type": "execute_result"
    }
   ],
   "source": [
    "y_pred = clf.predict(features_test)\n",
    "accuracy_score(y_test,y_pred)"
   ]
  }
 ],
 "metadata": {
  "kernelspec": {
   "display_name": "Python 3",
   "language": "python",
   "name": "python3"
  },
  "language_info": {
   "codemirror_mode": {
    "name": "ipython",
    "version": 3
   },
   "file_extension": ".py",
   "mimetype": "text/x-python",
   "name": "python",
   "nbconvert_exporter": "python",
   "pygments_lexer": "ipython3",
   "version": "3.7.12"
  },
  "papermill": {
   "default_parameters": {},
   "duration": 629.045108,
   "end_time": "2023-01-12T17:30:36.840791",
   "environment_variables": {},
   "exception": null,
   "input_path": "__notebook__.ipynb",
   "output_path": "__notebook__.ipynb",
   "parameters": {},
   "start_time": "2023-01-12T17:20:07.795683",
   "version": "2.3.4"
  }
 },
 "nbformat": 4,
 "nbformat_minor": 5
}
