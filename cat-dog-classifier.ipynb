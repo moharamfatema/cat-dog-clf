{
 "cells": [
  {
   "cell_type": "code",
   "execution_count": 1,
   "id": "40d6a243",
   "metadata": {
    "_cell_guid": "b1076dfc-b9ad-4769-8c92-a6c4dae69d19",
    "_uuid": "8f2839f25d086af736a60e9eeb907d3b93b6e0e5",
    "execution": {
     "iopub.execute_input": "2023-01-12T16:46:36.220918Z",
     "iopub.status.busy": "2023-01-12T16:46:36.220254Z",
     "iopub.status.idle": "2023-01-12T16:46:45.243552Z",
     "shell.execute_reply": "2023-01-12T16:46:45.242385Z"
    },
    "papermill": {
     "duration": 9.039353,
     "end_time": "2023-01-12T16:46:45.246547",
     "exception": false,
     "start_time": "2023-01-12T16:46:36.207194",
     "status": "completed"
    },
    "tags": []
   },
   "outputs": [
    {
     "data": {
      "text/plain": [
       "[PhysicalDevice(name='/physical_device:CPU:0', device_type='CPU')]"
      ]
     },
     "execution_count": 1,
     "metadata": {},
     "output_type": "execute_result"
    }
   ],
   "source": [
    "# This Python 3 environment comes with many helpful analytics libraries installed\n",
    "# It is defined by the kaggle/python Docker image: https://github.com/kaggle/docker-python\n",
    "# For example, here's several helpful packages to load\n",
    "\n",
    "import numpy as np # linear algebra\n",
    "# import pandas as pd # data processing, CSV file I/O (e.g. pd.read_csv)\n",
    "\n",
    "# Input data files are available in the read-only \"../input/\" directory\n",
    "# For example, running this (by clicking run or pressing Shift+Enter) will list all files under the input directory\n",
    "import matplotlib.pyplot as plt\n",
    "import os\n",
    "import seaborn as sns\n",
    "\n",
    "import cv2\n",
    "\n",
    "import tensorflow as tf\n",
    "from tensorflow import keras\n",
    "from tensorflow.keras import metrics\n",
    "import tensorflow.keras.layers as tfl\n",
    "\n",
    "from sklearn.metrics import accuracy_score, classification_report, roc_curve,roc_auc_score\n",
    "from sklearn.model_selection import train_test_split\n",
    "from sklearn.svm import SVC\n",
    "\n",
    "\n",
    "tf.config.list_physical_devices()\n",
    "# You can write up to 20GB to the current directory (/kaggle/working/) that gets preserved as output when you create a version using \"Save & Run All\" \n",
    "# You can also write temporary files to /kaggle/temp/, but they won't be saved outside of the current session"
   ]
  },
  {
   "cell_type": "markdown",
   "id": "12e776db",
   "metadata": {
    "papermill": {
     "duration": 0.006583,
     "end_time": "2023-01-12T16:46:45.259487",
     "exception": false,
     "start_time": "2023-01-12T16:46:45.252904",
     "status": "completed"
    },
    "tags": []
   },
   "source": [
    "## Get the data"
   ]
  },
  {
   "cell_type": "code",
   "execution_count": 2,
   "id": "d7796362",
   "metadata": {
    "execution": {
     "iopub.execute_input": "2023-01-12T16:46:45.273932Z",
     "iopub.status.busy": "2023-01-12T16:46:45.273141Z",
     "iopub.status.idle": "2023-01-12T16:46:45.280279Z",
     "shell.execute_reply": "2023-01-12T16:46:45.278964Z"
    },
    "papermill": {
     "duration": 0.017167,
     "end_time": "2023-01-12T16:46:45.282715",
     "exception": false,
     "start_time": "2023-01-12T16:46:45.265548",
     "status": "completed"
    },
    "tags": []
   },
   "outputs": [],
   "source": [
    "INPUT_PATH = '/kaggle/input/cat-and-dogs/dataset'\n",
    "TRAIN_PATH = INPUT_PATH + '/training_set'\n",
    "TEST_PATH = INPUT_PATH + '/test_set'\n",
    "\n",
    "IMAGE_SIZE = (50,50,1)\n",
    "BATCH_SIZE = 32\n",
    "\n",
    "np.random.seed(123)"
   ]
  },
  {
   "cell_type": "code",
   "execution_count": 3,
   "id": "b1c86d0f",
   "metadata": {
    "execution": {
     "iopub.execute_input": "2023-01-12T16:46:45.296826Z",
     "iopub.status.busy": "2023-01-12T16:46:45.296381Z",
     "iopub.status.idle": "2023-01-12T16:46:45.304856Z",
     "shell.execute_reply": "2023-01-12T16:46:45.303423Z"
    },
    "papermill": {
     "duration": 0.018417,
     "end_time": "2023-01-12T16:46:45.307218",
     "exception": false,
     "start_time": "2023-01-12T16:46:45.288801",
     "status": "completed"
    },
    "tags": []
   },
   "outputs": [],
   "source": [
    "def extract(files):\n",
    "    x = np.zeros(((len(files),)+IMAGE_SIZE[:2]))\n",
    "    y = np.zeros((len(files)))\n",
    "    \n",
    "    for i, file in enumerate(files):\n",
    "        img = cv2.imread(file,cv2.IMREAD_GRAYSCALE)\n",
    "        img = cv2.resize(img,tuple(IMAGE_SIZE[:2]),interpolation=cv2.INTER_AREA)\n",
    "        img = img / 255.0\n",
    "        x[i] = img\n",
    "        \n",
    "        y[i] = 0 if file.split('/')[-2] == 'cats' else 1\n",
    "    \n",
    "    return x[:,:,:,np.newaxis], y"
   ]
  },
  {
   "cell_type": "code",
   "execution_count": 4,
   "id": "554bc92b",
   "metadata": {
    "execution": {
     "iopub.execute_input": "2023-01-12T16:46:45.322040Z",
     "iopub.status.busy": "2023-01-12T16:46:45.320805Z",
     "iopub.status.idle": "2023-01-12T16:48:21.218451Z",
     "shell.execute_reply": "2023-01-12T16:48:21.216874Z"
    },
    "papermill": {
     "duration": 95.908394,
     "end_time": "2023-01-12T16:48:21.221686",
     "exception": false,
     "start_time": "2023-01-12T16:46:45.313292",
     "status": "completed"
    },
    "tags": []
   },
   "outputs": [],
   "source": [
    "def list_full_paths(directory):\n",
    "    return [os.path.join(directory, file) for file in os.listdir(directory)]\n",
    " \n",
    "train_files = list_full_paths(TRAIN_PATH+'/cats')+list_full_paths(TRAIN_PATH+'/dogs')\n",
    "test_files  = list_full_paths(TEST_PATH+'/cats')+list_full_paths(TEST_PATH+'/dogs')\n",
    "\n",
    "x_train, y_train = extract(train_files)\n",
    "x_train, x_val, y_train, y_val = train_test_split(x_train, y_train, test_size = 0.1, random_state = 123, stratify = y_train)\n",
    "x_test, y_test   = extract(test_files)\n",
    "\n",
    "del train_files, test_files"
   ]
  },
  {
   "cell_type": "code",
   "execution_count": 5,
   "id": "76364a4b",
   "metadata": {
    "execution": {
     "iopub.execute_input": "2023-01-12T16:48:21.237157Z",
     "iopub.status.busy": "2023-01-12T16:48:21.236673Z",
     "iopub.status.idle": "2023-01-12T16:48:21.243752Z",
     "shell.execute_reply": "2023-01-12T16:48:21.242316Z"
    },
    "papermill": {
     "duration": 0.017606,
     "end_time": "2023-01-12T16:48:21.246421",
     "exception": false,
     "start_time": "2023-01-12T16:48:21.228815",
     "status": "completed"
    },
    "tags": []
   },
   "outputs": [
    {
     "name": "stdout",
     "output_type": "stream",
     "text": [
      "(7200, 50, 50, 1) (7200,)\n",
      "(800, 50, 50, 1) (800,)\n",
      "(2000, 50, 50, 1) (2000,)\n"
     ]
    }
   ],
   "source": [
    "print(x_train.shape,y_train.shape)\n",
    "print(x_val.shape,y_val.shape)\n",
    "print(x_test.shape,y_test.shape)"
   ]
  },
  {
   "cell_type": "code",
   "execution_count": 6,
   "id": "47461c92",
   "metadata": {
    "execution": {
     "iopub.execute_input": "2023-01-12T16:48:21.260651Z",
     "iopub.status.busy": "2023-01-12T16:48:21.260203Z",
     "iopub.status.idle": "2023-01-12T16:48:21.268637Z",
     "shell.execute_reply": "2023-01-12T16:48:21.267351Z"
    },
    "papermill": {
     "duration": 0.019983,
     "end_time": "2023-01-12T16:48:21.272599",
     "exception": false,
     "start_time": "2023-01-12T16:48:21.252616",
     "status": "completed"
    },
    "tags": []
   },
   "outputs": [
    {
     "name": "stdout",
     "output_type": "stream",
     "text": [
      "(array([0., 1.]), array([3600, 3600]))\n",
      "(array([0., 1.]), array([400, 400]))\n",
      "(array([0., 1.]), array([1000, 1000]))\n"
     ]
    }
   ],
   "source": [
    "print(np.unique(y_train,return_counts=True))\n",
    "print(np.unique(y_val,return_counts=True))\n",
    "print(np.unique(y_test,return_counts=True))"
   ]
  },
  {
   "cell_type": "markdown",
   "id": "aa011223",
   "metadata": {
    "papermill": {
     "duration": 0.00567,
     "end_time": "2023-01-12T16:48:21.284923",
     "exception": false,
     "start_time": "2023-01-12T16:48:21.279253",
     "status": "completed"
    },
    "tags": []
   },
   "source": [
    "# prepare the model"
   ]
  },
  {
   "cell_type": "code",
   "execution_count": 7,
   "id": "4de8814c",
   "metadata": {
    "execution": {
     "iopub.execute_input": "2023-01-12T16:48:21.299366Z",
     "iopub.status.busy": "2023-01-12T16:48:21.298898Z",
     "iopub.status.idle": "2023-01-12T16:48:21.305007Z",
     "shell.execute_reply": "2023-01-12T16:48:21.303732Z"
    },
    "papermill": {
     "duration": 0.016482,
     "end_time": "2023-01-12T16:48:21.307374",
     "exception": false,
     "start_time": "2023-01-12T16:48:21.290892",
     "status": "completed"
    },
    "tags": []
   },
   "outputs": [],
   "source": [
    "LEARNING_RATE = 0.0001"
   ]
  },
  {
   "cell_type": "code",
   "execution_count": 8,
   "id": "1badfe5f",
   "metadata": {
    "execution": {
     "iopub.execute_input": "2023-01-12T16:48:21.321789Z",
     "iopub.status.busy": "2023-01-12T16:48:21.321268Z",
     "iopub.status.idle": "2023-01-12T16:48:21.328900Z",
     "shell.execute_reply": "2023-01-12T16:48:21.327661Z"
    },
    "papermill": {
     "duration": 0.017852,
     "end_time": "2023-01-12T16:48:21.331355",
     "exception": false,
     "start_time": "2023-01-12T16:48:21.313503",
     "status": "completed"
    },
    "tags": []
   },
   "outputs": [],
   "source": [
    "values = np.linspace(0.00001,LEARNING_RATE,20)[::-1]\n",
    "boundaries = np.linspace(5, 100,19)[:values.shape[0]-1].astype(np.int32)\n",
    "\n",
    "scheduler = keras.optimizers.schedules.PiecewiseConstantDecay(\n",
    "    list(boundaries), list(values))\n",
    "\n",
    "lr_scheduler = tf.keras.callbacks.LearningRateScheduler(scheduler,verbose=1)"
   ]
  },
  {
   "cell_type": "code",
   "execution_count": 9,
   "id": "581ffad5",
   "metadata": {
    "execution": {
     "iopub.execute_input": "2023-01-12T16:48:21.345650Z",
     "iopub.status.busy": "2023-01-12T16:48:21.345149Z",
     "iopub.status.idle": "2023-01-12T16:48:21.560986Z",
     "shell.execute_reply": "2023-01-12T16:48:21.559553Z"
    },
    "papermill": {
     "duration": 0.228,
     "end_time": "2023-01-12T16:48:21.565414",
     "exception": false,
     "start_time": "2023-01-12T16:48:21.337414",
     "status": "completed"
    },
    "tags": []
   },
   "outputs": [
    {
     "name": "stdout",
     "output_type": "stream",
     "text": [
      "Model: \"cat_dog_conv_net\"\n",
      "_________________________________________________________________\n",
      "Layer (type)                 Output Shape              Param #   \n",
      "=================================================================\n",
      "conv2d (Conv2D)              (None, 50, 50, 32)        320       \n",
      "_________________________________________________________________\n",
      "dropout (Dropout)            (None, 50, 50, 32)        0         \n",
      "_________________________________________________________________\n",
      "conv2d_1 (Conv2D)            (None, 50, 50, 64)        18496     \n",
      "_________________________________________________________________\n",
      "max_pooling2d (MaxPooling2D) (None, 25, 25, 64)        0         \n",
      "_________________________________________________________________\n",
      "flatten (Flatten)            (None, 40000)             0         \n",
      "_________________________________________________________________\n",
      "feature_extractor (Dense)    (None, 64)                2560064   \n",
      "_________________________________________________________________\n",
      "dropout_1 (Dropout)          (None, 64)                0         \n",
      "_________________________________________________________________\n",
      "dense (Dense)                (None, 1)                 65        \n",
      "=================================================================\n",
      "Total params: 2,578,945\n",
      "Trainable params: 2,578,945\n",
      "Non-trainable params: 0\n",
      "_________________________________________________________________\n"
     ]
    },
    {
     "name": "stderr",
     "output_type": "stream",
     "text": [
      "2023-01-12 16:48:21.400905: I tensorflow/core/common_runtime/process_util.cc:146] Creating new thread pool with default inter op setting: 2. Tune using inter_op_parallelism_threads for best performance.\n"
     ]
    }
   ],
   "source": [
    "model = keras.models.Sequential([\n",
    "    tfl.Conv2D(\n",
    "        32,\n",
    "        3,\n",
    "        activation = 'relu',\n",
    "        input_shape = IMAGE_SIZE,\n",
    "        padding='same'\n",
    "    ),\n",
    "    tfl.Dropout(0.5),\n",
    "    tfl.Conv2D(\n",
    "        64,\n",
    "        3,\n",
    "        activation = 'relu',\n",
    "        padding='same'\n",
    "    ),\n",
    "    tfl.MaxPool2D(2,2),\n",
    "        \n",
    "#     tfl.BatchNormalization(),\n",
    "    tfl.Flatten(),\n",
    "    \n",
    "    tfl.Dense(64, activation='relu',name='feature_extractor'),\n",
    "    tfl.Dropout(0.3),\n",
    "\n",
    "    tfl.Dense(1, activation='sigmoid')\n",
    "], name = 'cat_dog_conv_net')\n",
    "\n",
    "model.compile(optimizer='adam',loss='binary_crossentropy',metrics=['accuracy'])\n",
    "\n",
    "model.summary()\n",
    "\n",
    "checkpoint_path = '/kaggle/working/checkpoints/cnn/'\n"
   ]
  },
  {
   "cell_type": "code",
   "execution_count": 10,
   "id": "c054a1ba",
   "metadata": {
    "execution": {
     "iopub.execute_input": "2023-01-12T16:48:21.584823Z",
     "iopub.status.busy": "2023-01-12T16:48:21.581734Z",
     "iopub.status.idle": "2023-01-12T16:48:21.590084Z",
     "shell.execute_reply": "2023-01-12T16:48:21.588723Z"
    },
    "papermill": {
     "duration": 0.019571,
     "end_time": "2023-01-12T16:48:21.593044",
     "exception": false,
     "start_time": "2023-01-12T16:48:21.573473",
     "status": "completed"
    },
    "tags": []
   },
   "outputs": [],
   "source": [
    "# del model"
   ]
  },
  {
   "cell_type": "code",
   "execution_count": 11,
   "id": "fbc82fc6",
   "metadata": {
    "execution": {
     "iopub.execute_input": "2023-01-12T16:48:21.607918Z",
     "iopub.status.busy": "2023-01-12T16:48:21.607359Z",
     "iopub.status.idle": "2023-01-12T17:16:08.576287Z",
     "shell.execute_reply": "2023-01-12T17:16:08.573890Z"
    },
    "papermill": {
     "duration": 1666.979888,
     "end_time": "2023-01-12T17:16:08.579485",
     "exception": false,
     "start_time": "2023-01-12T16:48:21.599597",
     "status": "completed"
    },
    "scrolled": true,
    "tags": []
   },
   "outputs": [
    {
     "name": "stderr",
     "output_type": "stream",
     "text": [
      "2023-01-12 16:48:21.961806: I tensorflow/compiler/mlir/mlir_graph_optimization_pass.cc:185] None of the MLIR Optimization Passes are enabled (registered 2)\n"
     ]
    },
    {
     "name": "stdout",
     "output_type": "stream",
     "text": [
      "Epoch 1/100\n",
      "\n",
      "Epoch 00001: LearningRateScheduler setting learning rate to tf.Tensor(0.0001, shape=(), dtype=float64).\n",
      "225/225 [==============================] - 31s 133ms/step - loss: 0.6943 - accuracy: 0.5222 - val_loss: 0.6892 - val_accuracy: 0.5675\n",
      "Epoch 2/100\n",
      "\n",
      "Epoch 00002: LearningRateScheduler setting learning rate to tf.Tensor(0.0001, shape=(), dtype=float64).\n",
      "225/225 [==============================] - 29s 131ms/step - loss: 0.6856 - accuracy: 0.5487 - val_loss: 0.6851 - val_accuracy: 0.5800\n",
      "Epoch 3/100\n",
      "\n",
      "Epoch 00003: LearningRateScheduler setting learning rate to tf.Tensor(0.0001, shape=(), dtype=float64).\n",
      "225/225 [==============================] - 30s 131ms/step - loss: 0.6821 - accuracy: 0.5592 - val_loss: 0.6853 - val_accuracy: 0.5600\n",
      "Epoch 4/100\n",
      "\n",
      "Epoch 00004: LearningRateScheduler setting learning rate to tf.Tensor(0.0001, shape=(), dtype=float64).\n",
      "225/225 [==============================] - 29s 131ms/step - loss: 0.6774 - accuracy: 0.5626 - val_loss: 0.6833 - val_accuracy: 0.5562\n",
      "Epoch 5/100\n",
      "\n",
      "Epoch 00005: LearningRateScheduler setting learning rate to tf.Tensor(0.0001, shape=(), dtype=float64).\n",
      "225/225 [==============================] - 29s 131ms/step - loss: 0.6745 - accuracy: 0.5790 - val_loss: 0.6777 - val_accuracy: 0.5913\n",
      "Epoch 6/100\n",
      "\n",
      "Epoch 00006: LearningRateScheduler setting learning rate to tf.Tensor(0.0001, shape=(), dtype=float64).\n",
      "225/225 [==============================] - 29s 130ms/step - loss: 0.6739 - accuracy: 0.5765 - val_loss: 0.6757 - val_accuracy: 0.6025\n",
      "Epoch 7/100\n",
      "\n",
      "Epoch 00007: LearningRateScheduler setting learning rate to tf.Tensor(9.526315789473685e-05, shape=(), dtype=float64).\n",
      "225/225 [==============================] - 28s 125ms/step - loss: 0.6694 - accuracy: 0.5918 - val_loss: 0.6747 - val_accuracy: 0.5800\n",
      "Epoch 8/100\n",
      "\n",
      "Epoch 00008: LearningRateScheduler setting learning rate to tf.Tensor(9.526315789473685e-05, shape=(), dtype=float64).\n",
      "225/225 [==============================] - 29s 129ms/step - loss: 0.6676 - accuracy: 0.5853 - val_loss: 0.6729 - val_accuracy: 0.5913\n",
      "Epoch 9/100\n",
      "\n",
      "Epoch 00009: LearningRateScheduler setting learning rate to tf.Tensor(9.526315789473685e-05, shape=(), dtype=float64).\n",
      "225/225 [==============================] - 29s 127ms/step - loss: 0.6639 - accuracy: 0.5896 - val_loss: 0.6678 - val_accuracy: 0.5950\n",
      "Epoch 10/100\n",
      "\n",
      "Epoch 00010: LearningRateScheduler setting learning rate to tf.Tensor(9.526315789473685e-05, shape=(), dtype=float64).\n",
      "225/225 [==============================] - 29s 128ms/step - loss: 0.6622 - accuracy: 0.5874 - val_loss: 0.6714 - val_accuracy: 0.5938\n",
      "Epoch 11/100\n",
      "\n",
      "Epoch 00011: LearningRateScheduler setting learning rate to tf.Tensor(9.526315789473685e-05, shape=(), dtype=float64).\n",
      "225/225 [==============================] - 29s 128ms/step - loss: 0.6603 - accuracy: 0.6011 - val_loss: 0.6637 - val_accuracy: 0.6075\n",
      "Epoch 12/100\n",
      "\n",
      "Epoch 00012: LearningRateScheduler setting learning rate to tf.Tensor(9.052631578947369e-05, shape=(), dtype=float64).\n",
      "225/225 [==============================] - 29s 130ms/step - loss: 0.6527 - accuracy: 0.6119 - val_loss: 0.6609 - val_accuracy: 0.6100\n",
      "Epoch 13/100\n",
      "\n",
      "Epoch 00013: LearningRateScheduler setting learning rate to tf.Tensor(9.052631578947369e-05, shape=(), dtype=float64).\n",
      "225/225 [==============================] - 29s 128ms/step - loss: 0.6491 - accuracy: 0.6206 - val_loss: 0.6579 - val_accuracy: 0.6050\n",
      "Epoch 14/100\n",
      "\n",
      "Epoch 00014: LearningRateScheduler setting learning rate to tf.Tensor(9.052631578947369e-05, shape=(), dtype=float64).\n",
      "225/225 [==============================] - 29s 129ms/step - loss: 0.6497 - accuracy: 0.6132 - val_loss: 0.6595 - val_accuracy: 0.6175\n",
      "Epoch 15/100\n",
      "\n",
      "Epoch 00015: LearningRateScheduler setting learning rate to tf.Tensor(9.052631578947369e-05, shape=(), dtype=float64).\n",
      "225/225 [==============================] - 29s 130ms/step - loss: 0.6417 - accuracy: 0.6332 - val_loss: 0.6519 - val_accuracy: 0.6300\n",
      "Epoch 16/100\n",
      "\n",
      "Epoch 00016: LearningRateScheduler setting learning rate to tf.Tensor(9.052631578947369e-05, shape=(), dtype=float64).\n",
      "225/225 [==============================] - 29s 129ms/step - loss: 0.6375 - accuracy: 0.6311 - val_loss: 0.6467 - val_accuracy: 0.6388\n",
      "Epoch 17/100\n",
      "\n",
      "Epoch 00017: LearningRateScheduler setting learning rate to tf.Tensor(8.578947368421054e-05, shape=(), dtype=float64).\n",
      "225/225 [==============================] - 29s 131ms/step - loss: 0.6288 - accuracy: 0.6468 - val_loss: 0.6439 - val_accuracy: 0.6363\n",
      "Epoch 18/100\n",
      "\n",
      "Epoch 00018: LearningRateScheduler setting learning rate to tf.Tensor(8.578947368421054e-05, shape=(), dtype=float64).\n",
      "225/225 [==============================] - 28s 125ms/step - loss: 0.6234 - accuracy: 0.6535 - val_loss: 0.6371 - val_accuracy: 0.6500\n",
      "Epoch 19/100\n",
      "\n",
      "Epoch 00019: LearningRateScheduler setting learning rate to tf.Tensor(8.578947368421054e-05, shape=(), dtype=float64).\n",
      "225/225 [==============================] - 29s 128ms/step - loss: 0.6189 - accuracy: 0.6603 - val_loss: 0.6367 - val_accuracy: 0.6475\n",
      "Epoch 20/100\n",
      "\n",
      "Epoch 00020: LearningRateScheduler setting learning rate to tf.Tensor(8.578947368421054e-05, shape=(), dtype=float64).\n",
      "225/225 [==============================] - 29s 130ms/step - loss: 0.6136 - accuracy: 0.6717 - val_loss: 0.6325 - val_accuracy: 0.6450\n",
      "Epoch 21/100\n",
      "\n",
      "Epoch 00021: LearningRateScheduler setting learning rate to tf.Tensor(8.578947368421054e-05, shape=(), dtype=float64).\n",
      "225/225 [==============================] - 29s 129ms/step - loss: 0.6067 - accuracy: 0.6692 - val_loss: 0.6314 - val_accuracy: 0.6538\n",
      "Epoch 22/100\n",
      "\n",
      "Epoch 00022: LearningRateScheduler setting learning rate to tf.Tensor(8.105263157894738e-05, shape=(), dtype=float64).\n",
      "225/225 [==============================] - 30s 132ms/step - loss: 0.6002 - accuracy: 0.6761 - val_loss: 0.6267 - val_accuracy: 0.6513\n",
      "Epoch 23/100\n",
      "\n",
      "Epoch 00023: LearningRateScheduler setting learning rate to tf.Tensor(8.105263157894738e-05, shape=(), dtype=float64).\n",
      "225/225 [==============================] - 30s 134ms/step - loss: 0.5963 - accuracy: 0.6860 - val_loss: 0.6216 - val_accuracy: 0.6662\n",
      "Epoch 24/100\n",
      "\n",
      "Epoch 00024: LearningRateScheduler setting learning rate to tf.Tensor(8.105263157894738e-05, shape=(), dtype=float64).\n",
      "225/225 [==============================] - 30s 132ms/step - loss: 0.5921 - accuracy: 0.6825 - val_loss: 0.6220 - val_accuracy: 0.6625\n",
      "Epoch 25/100\n",
      "\n",
      "Epoch 00025: LearningRateScheduler setting learning rate to tf.Tensor(8.105263157894738e-05, shape=(), dtype=float64).\n",
      "225/225 [==============================] - 29s 131ms/step - loss: 0.5858 - accuracy: 0.6926 - val_loss: 0.6162 - val_accuracy: 0.6700\n",
      "Epoch 26/100\n",
      "\n",
      "Epoch 00026: LearningRateScheduler setting learning rate to tf.Tensor(8.105263157894738e-05, shape=(), dtype=float64).\n",
      "225/225 [==============================] - 29s 131ms/step - loss: 0.5812 - accuracy: 0.6954 - val_loss: 0.6119 - val_accuracy: 0.6650\n",
      "Epoch 27/100\n",
      "\n",
      "Epoch 00027: LearningRateScheduler setting learning rate to tf.Tensor(8.105263157894738e-05, shape=(), dtype=float64).\n",
      "225/225 [==============================] - 29s 130ms/step - loss: 0.5744 - accuracy: 0.6974 - val_loss: 0.6080 - val_accuracy: 0.6888\n",
      "Epoch 28/100\n",
      "\n",
      "Epoch 00028: LearningRateScheduler setting learning rate to tf.Tensor(7.631578947368422e-05, shape=(), dtype=float64).\n",
      "225/225 [==============================] - 30s 135ms/step - loss: 0.5665 - accuracy: 0.7090 - val_loss: 0.6112 - val_accuracy: 0.6725\n",
      "Epoch 29/100\n",
      "\n",
      "Epoch 00029: LearningRateScheduler setting learning rate to tf.Tensor(7.631578947368422e-05, shape=(), dtype=float64).\n",
      "225/225 [==============================] - 30s 133ms/step - loss: 0.5567 - accuracy: 0.7175 - val_loss: 0.6003 - val_accuracy: 0.6825\n",
      "Epoch 30/100\n",
      "\n",
      "Epoch 00030: LearningRateScheduler setting learning rate to tf.Tensor(7.631578947368422e-05, shape=(), dtype=float64).\n",
      "225/225 [==============================] - 30s 133ms/step - loss: 0.5562 - accuracy: 0.7189 - val_loss: 0.5985 - val_accuracy: 0.6800\n",
      "Epoch 31/100\n",
      "\n",
      "Epoch 00031: LearningRateScheduler setting learning rate to tf.Tensor(7.631578947368422e-05, shape=(), dtype=float64).\n",
      "225/225 [==============================] - 30s 134ms/step - loss: 0.5470 - accuracy: 0.7192 - val_loss: 0.5978 - val_accuracy: 0.6812\n",
      "Epoch 32/100\n",
      "\n",
      "Epoch 00032: LearningRateScheduler setting learning rate to tf.Tensor(7.631578947368422e-05, shape=(), dtype=float64).\n",
      "225/225 [==============================] - 30s 132ms/step - loss: 0.5401 - accuracy: 0.7264 - val_loss: 0.5937 - val_accuracy: 0.6825\n",
      "Epoch 33/100\n",
      "\n",
      "Epoch 00033: LearningRateScheduler setting learning rate to tf.Tensor(7.157894736842105e-05, shape=(), dtype=float64).\n",
      "225/225 [==============================] - 30s 134ms/step - loss: 0.5326 - accuracy: 0.7346 - val_loss: 0.5901 - val_accuracy: 0.6850\n",
      "Epoch 34/100\n",
      "\n",
      "Epoch 00034: LearningRateScheduler setting learning rate to tf.Tensor(7.157894736842105e-05, shape=(), dtype=float64).\n",
      "225/225 [==============================] - 31s 136ms/step - loss: 0.5248 - accuracy: 0.7371 - val_loss: 0.5866 - val_accuracy: 0.6875\n",
      "Epoch 35/100\n",
      "\n",
      "Epoch 00035: LearningRateScheduler setting learning rate to tf.Tensor(7.157894736842105e-05, shape=(), dtype=float64).\n",
      "225/225 [==============================] - 30s 134ms/step - loss: 0.5240 - accuracy: 0.7437 - val_loss: 0.5883 - val_accuracy: 0.6938\n",
      "Epoch 36/100\n",
      "\n",
      "Epoch 00036: LearningRateScheduler setting learning rate to tf.Tensor(7.157894736842105e-05, shape=(), dtype=float64).\n",
      "225/225 [==============================] - 31s 138ms/step - loss: 0.5111 - accuracy: 0.7518 - val_loss: 0.5859 - val_accuracy: 0.6875\n",
      "Epoch 37/100\n",
      "\n",
      "Epoch 00037: LearningRateScheduler setting learning rate to tf.Tensor(7.157894736842105e-05, shape=(), dtype=float64).\n",
      "225/225 [==============================] - 30s 134ms/step - loss: 0.5053 - accuracy: 0.7518 - val_loss: 0.5855 - val_accuracy: 0.6850\n",
      "Epoch 38/100\n",
      "\n",
      "Epoch 00038: LearningRateScheduler setting learning rate to tf.Tensor(6.68421052631579e-05, shape=(), dtype=float64).\n",
      "225/225 [==============================] - 31s 137ms/step - loss: 0.5012 - accuracy: 0.7588 - val_loss: 0.5793 - val_accuracy: 0.7025\n",
      "Epoch 39/100\n",
      "\n",
      "Epoch 00039: LearningRateScheduler setting learning rate to tf.Tensor(6.68421052631579e-05, shape=(), dtype=float64).\n",
      "225/225 [==============================] - 30s 133ms/step - loss: 0.4953 - accuracy: 0.7596 - val_loss: 0.5772 - val_accuracy: 0.6938\n",
      "Epoch 40/100\n",
      "\n",
      "Epoch 00040: LearningRateScheduler setting learning rate to tf.Tensor(6.68421052631579e-05, shape=(), dtype=float64).\n",
      "225/225 [==============================] - 30s 133ms/step - loss: 0.4908 - accuracy: 0.7638 - val_loss: 0.5763 - val_accuracy: 0.6837\n",
      "Epoch 41/100\n",
      "\n",
      "Epoch 00041: LearningRateScheduler setting learning rate to tf.Tensor(6.68421052631579e-05, shape=(), dtype=float64).\n",
      "225/225 [==============================] - 30s 133ms/step - loss: 0.4858 - accuracy: 0.7660 - val_loss: 0.5758 - val_accuracy: 0.6900\n",
      "Epoch 42/100\n",
      "\n",
      "Epoch 00042: LearningRateScheduler setting learning rate to tf.Tensor(6.68421052631579e-05, shape=(), dtype=float64).\n",
      "225/225 [==============================] - 30s 132ms/step - loss: 0.4769 - accuracy: 0.7744 - val_loss: 0.5775 - val_accuracy: 0.6888\n",
      "Epoch 43/100\n",
      "\n",
      "Epoch 00043: LearningRateScheduler setting learning rate to tf.Tensor(6.210526315789474e-05, shape=(), dtype=float64).\n",
      "225/225 [==============================] - 31s 137ms/step - loss: 0.4745 - accuracy: 0.7769 - val_loss: 0.5766 - val_accuracy: 0.6988\n",
      "Epoch 44/100\n",
      "\n",
      "Epoch 00044: LearningRateScheduler setting learning rate to tf.Tensor(6.210526315789474e-05, shape=(), dtype=float64).\n",
      "225/225 [==============================] - 31s 140ms/step - loss: 0.4744 - accuracy: 0.7760 - val_loss: 0.5786 - val_accuracy: 0.7000\n",
      "Epoch 45/100\n",
      "\n",
      "Epoch 00045: LearningRateScheduler setting learning rate to tf.Tensor(6.210526315789474e-05, shape=(), dtype=float64).\n",
      "225/225 [==============================] - 31s 138ms/step - loss: 0.4609 - accuracy: 0.7790 - val_loss: 0.5760 - val_accuracy: 0.6963\n",
      "Epoch 46/100\n",
      "\n",
      "Epoch 00046: LearningRateScheduler setting learning rate to tf.Tensor(6.210526315789474e-05, shape=(), dtype=float64).\n",
      "225/225 [==============================] - 30s 136ms/step - loss: 0.4600 - accuracy: 0.7819 - val_loss: 0.5727 - val_accuracy: 0.6988\n",
      "Epoch 47/100\n",
      "\n",
      "Epoch 00047: LearningRateScheduler setting learning rate to tf.Tensor(6.210526315789474e-05, shape=(), dtype=float64).\n",
      "225/225 [==============================] - 30s 133ms/step - loss: 0.4508 - accuracy: 0.7876 - val_loss: 0.5737 - val_accuracy: 0.6950\n",
      "Epoch 48/100\n",
      "\n",
      "Epoch 00048: LearningRateScheduler setting learning rate to tf.Tensor(6.210526315789474e-05, shape=(), dtype=float64).\n",
      "225/225 [==============================] - 30s 133ms/step - loss: 0.4502 - accuracy: 0.7824 - val_loss: 0.5754 - val_accuracy: 0.6988\n",
      "Epoch 49/100\n",
      "\n",
      "Epoch 00049: LearningRateScheduler setting learning rate to tf.Tensor(5.736842105263159e-05, shape=(), dtype=float64).\n",
      "225/225 [==============================] - 30s 134ms/step - loss: 0.4425 - accuracy: 0.7886 - val_loss: 0.5743 - val_accuracy: 0.7063\n",
      "Epoch 50/100\n",
      "\n",
      "Epoch 00050: LearningRateScheduler setting learning rate to tf.Tensor(5.736842105263159e-05, shape=(), dtype=float64).\n",
      "225/225 [==============================] - 30s 132ms/step - loss: 0.4364 - accuracy: 0.7965 - val_loss: 0.5875 - val_accuracy: 0.6925\n",
      "Epoch 51/100\n",
      "\n",
      "Epoch 00051: LearningRateScheduler setting learning rate to tf.Tensor(5.736842105263159e-05, shape=(), dtype=float64).\n",
      "225/225 [==============================] - 30s 132ms/step - loss: 0.4348 - accuracy: 0.7958 - val_loss: 0.5807 - val_accuracy: 0.6963\n",
      "Epoch 52/100\n",
      "\n",
      "Epoch 00052: LearningRateScheduler setting learning rate to tf.Tensor(5.736842105263159e-05, shape=(), dtype=float64).\n",
      "225/225 [==============================] - 30s 133ms/step - loss: 0.4299 - accuracy: 0.7975 - val_loss: 0.5784 - val_accuracy: 0.6975\n",
      "Epoch 53/100\n",
      "\n",
      "Epoch 00053: LearningRateScheduler setting learning rate to tf.Tensor(5.736842105263159e-05, shape=(), dtype=float64).\n",
      "225/225 [==============================] - 30s 132ms/step - loss: 0.4285 - accuracy: 0.8007 - val_loss: 0.5798 - val_accuracy: 0.6975\n",
      "Epoch 54/100\n",
      "\n",
      "Epoch 00054: LearningRateScheduler setting learning rate to tf.Tensor(5.2631578947368424e-05, shape=(), dtype=float64).\n",
      "225/225 [==============================] - 29s 129ms/step - loss: 0.4209 - accuracy: 0.8021 - val_loss: 0.5819 - val_accuracy: 0.6988\n",
      "Epoch 55/100\n",
      "\n",
      "Epoch 00055: LearningRateScheduler setting learning rate to tf.Tensor(5.2631578947368424e-05, shape=(), dtype=float64).\n",
      "225/225 [==============================] - 30s 132ms/step - loss: 0.4180 - accuracy: 0.8065 - val_loss: 0.5860 - val_accuracy: 0.6975\n",
      "Epoch 56/100\n",
      "\n",
      "Epoch 00056: LearningRateScheduler setting learning rate to tf.Tensor(5.2631578947368424e-05, shape=(), dtype=float64).\n",
      "225/225 [==============================] - 29s 130ms/step - loss: 0.4128 - accuracy: 0.8090 - val_loss: 0.5831 - val_accuracy: 0.6988\n"
     ]
    }
   ],
   "source": [
    "EPOCHS = 100\n",
    "\n",
    "early_stopping = keras.callbacks.EarlyStopping(monitor='val_loss', patience = 10, mode='min')\n",
    "\n",
    "def configure_checkpoints(path):\n",
    "    return keras.callbacks.ModelCheckpoint(\n",
    "        filepath=path,\n",
    "        save_weights_only=True,\n",
    "        monitor='val_loss',\n",
    "        mode='min',\n",
    "        save_best_only=True)\n",
    "\n",
    "checkpoint = configure_checkpoints(checkpoint_path)\n",
    "\n",
    "history = model.fit(\n",
    "    x_train,\n",
    "    y_train, \n",
    "    batch_size=BATCH_SIZE,\n",
    "    validation_data = (x_val,y_val), \n",
    "    epochs = EPOCHS, \n",
    "    callbacks = [early_stopping,lr_scheduler,checkpoint],\n",
    ")"
   ]
  },
  {
   "cell_type": "code",
   "execution_count": 12,
   "id": "dec9be3e",
   "metadata": {
    "execution": {
     "iopub.execute_input": "2023-01-12T17:16:10.282423Z",
     "iopub.status.busy": "2023-01-12T17:16:10.281571Z",
     "iopub.status.idle": "2023-01-12T17:16:45.341484Z",
     "shell.execute_reply": "2023-01-12T17:16:45.339970Z"
    },
    "papermill": {
     "duration": 36.403784,
     "end_time": "2023-01-12T17:16:45.833275",
     "exception": false,
     "start_time": "2023-01-12T17:16:09.429491",
     "status": "completed"
    },
    "tags": []
   },
   "outputs": [
    {
     "name": "stdout",
     "output_type": "stream",
     "text": [
      "dict_keys(['loss', 'accuracy', 'val_loss', 'val_accuracy', 'lr'])\n"
     ]
    },
    {
     "data": {
      "text/plain": [
       "Text(0.5, 0, 'Epochs ')"
      ]
     },
     "execution_count": 12,
     "metadata": {},
     "output_type": "execute_result"
    },
    {
     "data": {
      "image/png": "[encoded data removed]",
      "text/plain": [
       "<Figure size 432x288 with 1 Axes>"
      ]
     },
     "metadata": {
      "needs_background": "light"
     },
     "output_type": "display_data"
    },
    {
     "data": {
      "image/png": "[encoded data removed]",
      "text/plain": [
       "<Figure size 432x288 with 1 Axes>"
      ]
     },
     "metadata": {
      "needs_background": "light"
     },
     "output_type": "display_data"
    },
    {
     "data": {
      "image/png": "[encoded data removed]",
      "text/plain": [
       "<Figure size 432x288 with 1 Axes>"
      ]
     },
     "metadata": {
      "needs_background": "light"
     },
     "output_type": "display_data"
    }
   ],
   "source": [
    "print(history.history.keys())\n",
    "num=len(history.history['loss'])\n",
    "\n",
    "plt.plot(range(num),history.history['loss'],label = 'training loss')\n",
    "plt.plot(range(num),history.history['val_loss'],label = 'validation loss')\n",
    "\n",
    "plt.legend()\n",
    "\n",
    "plt.xlabel(\"Epochs \")\n",
    "\n",
    "plt.figure()\n",
    "\n",
    "plt.plot(range(num),history.history['accuracy'],label = 'training accuracy')\n",
    "plt.plot(range(num),history.history['val_accuracy'],label = 'validation accuracy')\n",
    "\n",
    "plt.legend()\n",
    "plt.xlabel(\"Epochs \")\n",
    "\n",
    "plt.figure()\n",
    "\n",
    "plt.plot(range(num),history.history['lr'],label = 'learning rate')\n",
    "\n",
    "plt.legend()\n",
    "plt.xlabel(\"Epochs \")"
   ]
  },
  {
   "cell_type": "code",
   "execution_count": 13,
   "id": "2a88c210",
   "metadata": {
    "execution": {
     "iopub.execute_input": "2023-01-12T17:16:47.480298Z",
     "iopub.status.busy": "2023-01-12T17:16:47.479835Z",
     "iopub.status.idle": "2023-01-12T17:16:47.531768Z",
     "shell.execute_reply": "2023-01-12T17:16:47.530559Z"
    },
    "papermill": {
     "duration": 0.834792,
     "end_time": "2023-01-12T17:16:47.534420",
     "exception": false,
     "start_time": "2023-01-12T17:16:46.699628",
     "status": "completed"
    },
    "tags": []
   },
   "outputs": [
    {
     "data": {
      "text/plain": [
       "<tensorflow.python.training.tracking.util.CheckpointLoadStatus at 0x7feafd701a50>"
      ]
     },
     "execution_count": 13,
     "metadata": {},
     "output_type": "execute_result"
    }
   ],
   "source": [
    "model.load_weights(checkpoint_path)"
   ]
  },
  {
   "cell_type": "markdown",
   "id": "f636806e",
   "metadata": {
    "papermill": {
     "duration": 0.781331,
     "end_time": "2023-01-12T17:16:49.175074",
     "exception": false,
     "start_time": "2023-01-12T17:16:48.393743",
     "status": "completed"
    },
    "tags": []
   },
   "source": [
    "# Evaluate the model"
   ]
  },
  {
   "cell_type": "code",
   "execution_count": 14,
   "id": "e0acffdf",
   "metadata": {
    "execution": {
     "iopub.execute_input": "2023-01-12T17:16:50.808734Z",
     "iopub.status.busy": "2023-01-12T17:16:50.807864Z",
     "iopub.status.idle": "2023-01-12T17:16:55.359819Z",
     "shell.execute_reply": "2023-01-12T17:16:55.358163Z"
    },
    "papermill": {
     "duration": 5.333454,
     "end_time": "2023-01-12T17:16:55.362405",
     "exception": false,
     "start_time": "2023-01-12T17:16:50.028951",
     "status": "completed"
    },
    "tags": []
   },
   "outputs": [
    {
     "name": "stdout",
     "output_type": "stream",
     "text": [
      "63/63 [==============================] - 2s 31ms/step - loss: 0.5895 - accuracy: 0.7040\n",
      "[0.5894639492034912, 0.7039999961853027]\n",
      "              precision    recall  f1-score   support\n",
      "\n",
      "         cat       0.70      0.70      0.70      1000\n",
      "         dog       0.70      0.71      0.70      1000\n",
      "\n",
      "    accuracy                           0.70      2000\n",
      "   macro avg       0.70      0.70      0.70      2000\n",
      "weighted avg       0.70      0.70      0.70      2000\n",
      "\n"
     ]
    },
    {
     "data": {
      "image/png": "[encoded data removed]",
      "text/plain": [
       "<Figure size 432x288 with 2 Axes>"
      ]
     },
     "metadata": {
      "needs_background": "light"
     },
     "output_type": "display_data"
    },
    {
     "name": "stdout",
     "output_type": "stream",
     "text": [
      "AUC = 0.7039999961853027\n"
     ]
    },
    {
     "data": {
      "image/png": "[encoded data removed]",
      "text/plain": [
       "<Figure size 432x288 with 1 Axes>"
      ]
     },
     "metadata": {
      "needs_background": "light"
     },
     "output_type": "display_data"
    }
   ],
   "source": [
    "def eval_model(model,x,y,thresh=0.5):\n",
    "    \n",
    "    print(model.evaluate(x,y))\n",
    "    y_pred = model.predict(x)\n",
    "    y_pred[y_pred >= thresh] = 1\n",
    "    y_pred[y_pred < thresh ] = 0\n",
    "    \n",
    "    print(classification_report(y, y_pred, target_names=['cat','dog']))\n",
    "    \n",
    "    cm = tf.math.confusion_matrix(y,y_pred).numpy().astype(np.int64)\n",
    "    cm = np.around(cm.astype('float') / cm.sum(axis=1)[:, np.newaxis], decimals=3)\n",
    "    sns.heatmap(cm,annot=True)\n",
    "    plt.show()\n",
    "    \n",
    "    m = tf.keras.metrics.AUC(num_thresholds=80)\n",
    "    m.update_state(y, y_pred)\n",
    "\n",
    "    print(f'AUC = {m.result().numpy()}')\n",
    "\n",
    "    fpr , tpr , thresholds = roc_curve ( y , y_pred)\n",
    "    plt.figure()\n",
    "    plt.plot(fpr,tpr) \n",
    "    plt.axis([0,1,0,1]) \n",
    "    plt.xlabel('False Positive Rate') \n",
    "    plt.ylabel('True Positive Rate') \n",
    "    plt.show()    \n",
    "      \n",
    "eval_model(model,x_test,y_test)"
   ]
  },
  {
   "cell_type": "code",
   "execution_count": 15,
   "id": "4b9fe0f6",
   "metadata": {
    "execution": {
     "iopub.execute_input": "2023-01-12T17:16:57.004695Z",
     "iopub.status.busy": "2023-01-12T17:16:57.003686Z",
     "iopub.status.idle": "2023-01-12T17:17:03.438499Z",
     "shell.execute_reply": "2023-01-12T17:17:03.437576Z"
    },
    "papermill": {
     "duration": 7.215005,
     "end_time": "2023-01-12T17:17:03.440902",
     "exception": false,
     "start_time": "2023-01-12T17:16:56.225897",
     "status": "completed"
    },
    "tags": []
   },
   "outputs": [
    {
     "data": {
      "text/plain": [
       "(7200, 64)"
      ]
     },
     "execution_count": 15,
     "metadata": {},
     "output_type": "execute_result"
    }
   ],
   "source": [
    "# feature extraction\n",
    "feature_extractor = keras.Model(\n",
    "    inputs=model.inputs,\n",
    "    outputs=model.get_layer(name='feature_extractor').output\n",
    ")\n",
    "\n",
    "features = feature_extractor.predict(x_train)\n",
    "features.shape"
   ]
  },
  {
   "cell_type": "code",
   "execution_count": 16,
   "id": "47e6ae42",
   "metadata": {
    "execution": {
     "iopub.execute_input": "2023-01-12T17:17:05.181330Z",
     "iopub.status.busy": "2023-01-12T17:17:05.180033Z",
     "iopub.status.idle": "2023-01-12T17:17:07.072248Z",
     "shell.execute_reply": "2023-01-12T17:17:07.071225Z"
    },
    "papermill": {
     "duration": 2.763984,
     "end_time": "2023-01-12T17:17:07.074591",
     "exception": false,
     "start_time": "2023-01-12T17:17:04.310607",
     "status": "completed"
    },
    "tags": []
   },
   "outputs": [
    {
     "data": {
      "text/plain": [
       "(2000, 64)"
      ]
     },
     "execution_count": 16,
     "metadata": {},
     "output_type": "execute_result"
    }
   ],
   "source": [
    "features_test = feature_extractor.predict(x_test)\n",
    "features_test.shape"
   ]
  },
  {
   "cell_type": "code",
   "execution_count": 17,
   "id": "4f94ad2d",
   "metadata": {
    "execution": {
     "iopub.execute_input": "2023-01-12T17:17:08.643261Z",
     "iopub.status.busy": "2023-01-12T17:17:08.642404Z",
     "iopub.status.idle": "2023-01-12T17:17:08.647078Z",
     "shell.execute_reply": "2023-01-12T17:17:08.646305Z"
    },
    "papermill": {
     "duration": 0.790684,
     "end_time": "2023-01-12T17:17:08.649294",
     "exception": false,
     "start_time": "2023-01-12T17:17:07.858610",
     "status": "completed"
    },
    "tags": []
   },
   "outputs": [],
   "source": [
    "clf = SVC()"
   ]
  },
  {
   "cell_type": "code",
   "execution_count": 18,
   "id": "d6ab9c40",
   "metadata": {
    "execution": {
     "iopub.execute_input": "2023-01-12T17:17:10.374935Z",
     "iopub.status.busy": "2023-01-12T17:17:10.374111Z",
     "iopub.status.idle": "2023-01-12T17:17:12.134165Z",
     "shell.execute_reply": "2023-01-12T17:17:12.132965Z"
    },
    "papermill": {
     "duration": 2.622375,
     "end_time": "2023-01-12T17:17:12.136771",
     "exception": false,
     "start_time": "2023-01-12T17:17:09.514396",
     "status": "completed"
    },
    "tags": []
   },
   "outputs": [
    {
     "data": {
      "text/plain": [
       "SVC()"
      ]
     },
     "execution_count": 18,
     "metadata": {},
     "output_type": "execute_result"
    }
   ],
   "source": [
    "clf.fit(X=features,y=y_train)"
   ]
  },
  {
   "cell_type": "code",
   "execution_count": 19,
   "id": "7560a0c6",
   "metadata": {
    "execution": {
     "iopub.execute_input": "2023-01-12T17:17:13.826700Z",
     "iopub.status.busy": "2023-01-12T17:17:13.825831Z",
     "iopub.status.idle": "2023-01-12T17:17:14.461340Z",
     "shell.execute_reply": "2023-01-12T17:17:14.460034Z"
    },
    "papermill": {
     "duration": 1.537105,
     "end_time": "2023-01-12T17:17:14.464355",
     "exception": false,
     "start_time": "2023-01-12T17:17:12.927250",
     "status": "completed"
    },
    "tags": []
   },
   "outputs": [
    {
     "data": {
      "text/plain": [
       "0.6995"
      ]
     },
     "execution_count": 19,
     "metadata": {},
     "output_type": "execute_result"
    }
   ],
   "source": [
    "y_pred = clf.predict(features_test)\n",
    "accuracy_score(y_test,y_pred)"
   ]
  }
 ],
 "metadata": {
  "kernelspec": {
   "display_name": "Python 3",
   "language": "python",
   "name": "python3"
  },
  "language_info": {
   "codemirror_mode": {
    "name": "ipython",
    "version": 3
   },
   "file_extension": ".py",
   "mimetype": "text/x-python",
   "name": "python",
   "nbconvert_exporter": "python",
   "pygments_lexer": "ipython3",
   "version": "3.7.12"
  },
  "papermill": {
   "default_parameters": {},
   "duration": 1851.902685,
   "end_time": "2023-01-12T17:17:18.328971",
   "environment_variables": {},
   "exception": null,
   "input_path": "__notebook__.ipynb",
   "output_path": "__notebook__.ipynb",
   "parameters": {},
   "start_time": "2023-01-12T16:46:26.426286",
   "version": "2.3.4"
  }
 },
 "nbformat": 4,
 "nbformat_minor": 5
}
